{
 "cells": [
  {
   "cell_type": "code",
   "execution_count": 1,
   "id": "f1251c45",
   "metadata": {
    "vscode": {
     "languageId": "r"
    }
   },
   "outputs": [
    {
     "name": "stderr",
     "output_type": "stream",
     "text": [
      "Warning message in file(con, \"r\"):\n",
      "“URL 'https://bioconductor.org/config.yaml': status was 'Couldn't resolve host name'”\n",
      "Warning message in file(con, \"r\"):\n",
      "“URL 'http://bioconductor.org/config.yaml': status was 'Couldn't resolve host name'”\n",
      "Bioconductor version cannot be validated; no internet connection?  See\n",
      "  #troubleshooting section in vignette\n",
      "\n"
     ]
    },
    {
     "ename": "ERROR",
     "evalue": "Error: Bioconductor version cannot be validated; no internet connection?  See\n  #troubleshooting section in vignette\n",
     "output_type": "error",
     "traceback": [
      "Error: Bioconductor version cannot be validated; no internet connection?  See\n  #troubleshooting section in vignette\nTraceback:\n",
      "1. BiocManager::install(version = \"3.10\")",
      "2. .version_validate(version)",
      "3. ifelse(.is_CRAN_check(), .message(txt), .stop(txt))",
      "4. .stop(txt)",
      "5. stop(.msg(...), call. = call.)"
     ]
    }
   ],
   "source": [
    "if (!require(\"BiocManager\", quietly = TRUE))\n",
    "    install.packages(\"BiocManager\",repos='http://cran.us.r-project.org')\n",
    "    BiocManager::install(version = \"3.10\")\n",
    "    BiocManager::install(\"GEOquery\")\n",
    "if (!require(\"BiocManager\", quietly = TRUE))\n",
    "    install.packages(\"BiocManager\")\n",
    "    BiocManager::install(version = \"3.10\")\n",
    "    BiocManager::install(\"GEOquery\")\n",
    "\n",
    "list.of.packages <- c(\"limma\", \"umap\",\"maptools\",\"corrplot\",\"pheatmap\",\"reshape2\",\"umap\",\"ggplot2\",\"devtools\",\"ggbiplot\",\"data\")\n",
    "new.packages <- list.of.packages[!(list.of.packages %in% installed.packages()[,\"Package\"])]\n",
    "if(length(new.packages)) install.packages(new.packages)\n",
    "# install.packages(\"limma\")\n",
    "# install.packages(\"umap\")\n",
    "# install.packages(\"maptools\")\n",
    "# install.packages(\"corrplot\")\n",
    "# install.packages(\"pheatmap\")\n",
    "# install.packages(\"reshape2\")\n",
    "# install.packages(\"umap\")\n",
    "# install.packages(\"ggplot2\")\n",
    "# install.packages(\"devtools\")\n",
    "# install.packages(\"ggbiplot\")\n",
    "# install.packages(\"data.table\")\n",
    "# install.packages(\"data\")"
   ]
  },
  {
   "cell_type": "code",
   "execution_count": 12,
   "id": "a6abb121",
   "metadata": {
    "vscode": {
     "languageId": "r"
    }
   },
   "outputs": [
    {
     "data": {
      "text/html": [
       "<dl>\n",
       "\t<dt>$platform</dt>\n",
       "\t\t<dd>'x86_64-conda_cos6-linux-gnu'</dd>\n",
       "\t<dt>$arch</dt>\n",
       "\t\t<dd>'x86_64'</dd>\n",
       "\t<dt>$os</dt>\n",
       "\t\t<dd>'linux-gnu'</dd>\n",
       "\t<dt>$system</dt>\n",
       "\t\t<dd>'x86_64, linux-gnu'</dd>\n",
       "\t<dt>$status</dt>\n",
       "\t\t<dd>''</dd>\n",
       "\t<dt>$major</dt>\n",
       "\t\t<dd>'3'</dd>\n",
       "\t<dt>$minor</dt>\n",
       "\t\t<dd>'6.1'</dd>\n",
       "\t<dt>$year</dt>\n",
       "\t\t<dd>'2019'</dd>\n",
       "\t<dt>$month</dt>\n",
       "\t\t<dd>'07'</dd>\n",
       "\t<dt>$day</dt>\n",
       "\t\t<dd>'05'</dd>\n",
       "\t<dt>$`svn rev`</dt>\n",
       "\t\t<dd>'76782'</dd>\n",
       "\t<dt>$language</dt>\n",
       "\t\t<dd>'R'</dd>\n",
       "\t<dt>$version.string</dt>\n",
       "\t\t<dd>'R version 3.6.1 (2019-07-05)'</dd>\n",
       "\t<dt>$nickname</dt>\n",
       "\t\t<dd>'Action of the Toes'</dd>\n",
       "</dl>\n"
      ],
      "text/latex": [
       "\\begin{description}\n",
       "\\item[\\$platform] 'x86\\_64-conda\\_cos6-linux-gnu'\n",
       "\\item[\\$arch] 'x86\\_64'\n",
       "\\item[\\$os] 'linux-gnu'\n",
       "\\item[\\$system] 'x86\\_64, linux-gnu'\n",
       "\\item[\\$status] ''\n",
       "\\item[\\$major] '3'\n",
       "\\item[\\$minor] '6.1'\n",
       "\\item[\\$year] '2019'\n",
       "\\item[\\$month] '07'\n",
       "\\item[\\$day] '05'\n",
       "\\item[\\$`svn rev`] '76782'\n",
       "\\item[\\$language] 'R'\n",
       "\\item[\\$version.string] 'R version 3.6.1 (2019-07-05)'\n",
       "\\item[\\$nickname] 'Action of the Toes'\n",
       "\\end{description}\n"
      ],
      "text/markdown": [
       "$platform\n",
       ":   'x86_64-conda_cos6-linux-gnu'\n",
       "$arch\n",
       ":   'x86_64'\n",
       "$os\n",
       ":   'linux-gnu'\n",
       "$system\n",
       ":   'x86_64, linux-gnu'\n",
       "$status\n",
       ":   ''\n",
       "$major\n",
       ":   '3'\n",
       "$minor\n",
       ":   '6.1'\n",
       "$year\n",
       ":   '2019'\n",
       "$month\n",
       ":   '07'\n",
       "$day\n",
       ":   '05'\n",
       "$`svn rev`\n",
       ":   '76782'\n",
       "$language\n",
       ":   'R'\n",
       "$version.string\n",
       ":   'R version 3.6.1 (2019-07-05)'\n",
       "$nickname\n",
       ":   'Action of the Toes'\n",
       "\n",
       "\n"
      ],
      "text/plain": [
       "$platform\n",
       "[1] \"x86_64-conda_cos6-linux-gnu\"\n",
       "\n",
       "$arch\n",
       "[1] \"x86_64\"\n",
       "\n",
       "$os\n",
       "[1] \"linux-gnu\"\n",
       "\n",
       "$system\n",
       "[1] \"x86_64, linux-gnu\"\n",
       "\n",
       "$status\n",
       "[1] \"\"\n",
       "\n",
       "$major\n",
       "[1] \"3\"\n",
       "\n",
       "$minor\n",
       "[1] \"6.1\"\n",
       "\n",
       "$year\n",
       "[1] \"2019\"\n",
       "\n",
       "$month\n",
       "[1] \"07\"\n",
       "\n",
       "$day\n",
       "[1] \"05\"\n",
       "\n",
       "$`svn rev`\n",
       "[1] \"76782\"\n",
       "\n",
       "$language\n",
       "[1] \"R\"\n",
       "\n",
       "$version.string\n",
       "[1] \"R version 3.6.1 (2019-07-05)\"\n",
       "\n",
       "$nickname\n",
       "[1] \"Action of the Toes\"\n"
      ]
     },
     "metadata": {},
     "output_type": "display_data"
    }
   ],
   "source": [
    "R.Version()"
   ]
  },
  {
   "cell_type": "code",
   "execution_count": 2,
   "id": "37786e17",
   "metadata": {
    "vscode": {
     "languageId": "r"
    }
   },
   "outputs": [
    {
     "name": "stderr",
     "output_type": "stream",
     "text": [
      "Loading required package: BiocGenerics\n",
      "\n",
      "Loading required package: parallel\n",
      "\n",
      "\n",
      "Attaching package: ‘BiocGenerics’\n",
      "\n",
      "\n",
      "The following objects are masked from ‘package:parallel’:\n",
      "\n",
      "    clusterApply, clusterApplyLB, clusterCall, clusterEvalQ,\n",
      "    clusterExport, clusterMap, parApply, parCapply, parLapply,\n",
      "    parLapplyLB, parRapply, parSapply, parSapplyLB\n",
      "\n",
      "\n",
      "The following objects are masked from ‘package:stats’:\n",
      "\n",
      "    IQR, mad, sd, var, xtabs\n",
      "\n",
      "\n",
      "The following objects are masked from ‘package:base’:\n",
      "\n",
      "    anyDuplicated, append, as.data.frame, basename, cbind, colnames,\n",
      "    dirname, do.call, duplicated, eval, evalq, Filter, Find, get, grep,\n",
      "    grepl, intersect, is.unsorted, lapply, Map, mapply, match, mget,\n",
      "    order, paste, pmax, pmax.int, pmin, pmin.int, Position, rank,\n",
      "    rbind, Reduce, rownames, sapply, setdiff, sort, table, tapply,\n",
      "    union, unique, unsplit, which, which.max, which.min\n",
      "\n",
      "\n",
      "Welcome to Bioconductor\n",
      "\n",
      "    Vignettes contain introductory material; view with\n",
      "    'browseVignettes()'. To cite Bioconductor, see\n",
      "    'citation(\"Biobase\")', and for packages 'citation(\"pkgname\")'.\n",
      "\n",
      "\n",
      "Setting options('download.file.method.GEOquery'='auto')\n",
      "\n",
      "Setting options('GEOquery.inmemory.gpl'=FALSE)\n",
      "\n",
      "\n",
      "Attaching package: ‘limma’\n",
      "\n",
      "\n",
      "The following object is masked from ‘package:BiocGenerics’:\n",
      "\n",
      "    plotMA\n",
      "\n",
      "\n"
     ]
    },
    {
     "ename": "ERROR",
     "evalue": "Error in library(umap): there is no package called ‘umap’\n",
     "output_type": "error",
     "traceback": [
      "Error in library(umap): there is no package called ‘umap’\nTraceback:\n",
      "1. library(umap)"
     ]
    }
   ],
   "source": [
    "library(Biobase)\n",
    "library(GEOquery)\n",
    "library(limma)\n",
    "library(umap)\n",
    "library(maptools)\n",
    "library(tidyr)\n",
    "library(dplyr)\n",
    "library(ggplot2)\n",
    "library(devtools)\n",
    "#install_github(\"vqv/ggbiplot\")\n",
    "#library(ggbiplot)\n",
    "#library(data.table)\n",
    "library(corrplot)\n",
    "library(pheatmap)\n",
    "library(reshape2)\n",
    "library(plyr)"
   ]
  },
  {
   "cell_type": "code",
   "execution_count": 16,
   "id": "338ed1ec",
   "metadata": {
    "vscode": {
     "languageId": "r"
    }
   },
   "outputs": [
    {
     "data": {
      "text/html": [
       "'/home/ahbagheri/anaconda3/envs/ml/lib/R'"
      ],
      "text/latex": [
       "'/home/ahbagheri/anaconda3/envs/ml/lib/R'"
      ],
      "text/markdown": [
       "'/home/ahbagheri/anaconda3/envs/ml/lib/R'"
      ],
      "text/plain": [
       "[1] \"/home/ahbagheri/anaconda3/envs/ml/lib/R\""
      ]
     },
     "metadata": {},
     "output_type": "display_data"
    }
   ],
   "source": [
    "R.home()"
   ]
  }
 ],
 "metadata": {
  "kernelspec": {
   "display_name": "R",
   "language": "R",
   "name": "ir"
  },
  "language_info": {
   "codemirror_mode": "r",
   "file_extension": ".r",
   "mimetype": "text/x-r-source",
   "name": "R",
   "pygments_lexer": "r",
   "version": "3.6.1"
  },
  "vscode": {
   "interpreter": {
    "hash": "9a69cfbab24ca69f4d4f629c6cfbb9c1ea54a1f8a547c9ff92536f48569ba7f1"
   }
  }
 },
 "nbformat": 4,
 "nbformat_minor": 5
}
